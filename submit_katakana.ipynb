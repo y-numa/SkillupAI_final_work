{
 "cells": [
  {
   "attachments": {},
   "cell_type": "markdown",
   "metadata": {},
   "source": [
    "# カタカナ15文字を自動識別するモデルの構築\n",
    "# 課題投稿用Notebook\n",
    "* これは課題投稿用ファイルです。\n",
    "* このsubmit_katakana.ipynbファイルを編集し、学習済みモデルなどの必要ファイルを同じフォルダにおき、そのフォルダをzipしたものを投稿してください。"
   ]
  },
  {
   "cell_type": "code",
   "execution_count": null,
   "metadata": {
    "scrolled": true
   },
   "outputs": [],
   "source": [
    "import numpy as np\n",
    "import glob\n",
    "import os,sys\n",
    "import util\n",
    "import pickle\n",
    "\n",
    "def makedataset():\n",
    "    \"\"\"\n",
    "    データセットをつくる関数です。\n",
    "    自由に編集してください。\n",
    "    \"\"\"\n",
    "    \n",
    "    # 次の行は変更しないこと\n",
    "    test_data= util.loaddata()\n",
    "    \n",
    "    # 以下は自由に編集しても構いません\n",
    "    # 必要な前処理をここに記述してください  \n",
    "    \n",
    "    # 正規化\n",
    "    test_data = test_data / test_data.max()\n",
    "    test_data = test_data.astype('float32')\n",
    "\n",
    "    # 配列形式変更\n",
    "    test_data = test_data.reshape(-1, 28*28)\n",
    "\n",
    "    return test_data\n",
    "\n",
    "\n",
    "def func_predict(test_data, test_label):\n",
    "    \"\"\"\n",
    "    予測する関数\n",
    "    data : 画像データ\n",
    "    return loss, accuracy\n",
    "    引数とreturn以外は、自由に編集してください    \n",
    "    \"\"\"\n",
    "\n",
    "    # 正規化\n",
    "    test_data = (test_data - test_data.min()) / test_data.max()\n",
    "    test_data = test_data.astype('float32')\n",
    "\n",
    "    # 配列形式変更\n",
    "    test_data = test_data.reshape(-1, 1, 28, 28)\n",
    "    \n",
    "    # 以下を自由に編集してください\n",
    "    with open(\"katakana_model_ver6.pickle\", \"rb\") as f:\n",
    "        model = pickle.load(f)\n",
    "    \n",
    "    accuracy = model.accuracy(test_data, test_label)\n",
    "    loss  = model.loss(test_data, test_label)\n",
    "    \n",
    "    return loss, accuracy # 編集不可\n",
    "\n",
    "\n",
    "def main():\n",
    "    \"\"\"\n",
    "    編集しないでください。\n",
    "    \"\"\"\n",
    "    # テスト用データをつくる\n",
    "    test_data = makedataset()\n",
    "\n",
    "    # 予測し精度を算出する\n",
    "    util.accuracy(func_predict, test_data)\n",
    "    \n",
    "    return\n",
    "\n",
    "\n",
    "if __name__==\"__main__\":\n",
    "    main()"
   ]
  }
 ],
 "metadata": {
  "kernelspec": {
   "display_name": "Python 3",
   "language": "python",
   "name": "python3"
  },
  "language_info": {
   "codemirror_mode": {
    "name": "ipython",
    "version": 3
   },
   "file_extension": ".py",
   "mimetype": "text/x-python",
   "name": "python",
   "nbconvert_exporter": "python",
   "pygments_lexer": "ipython3",
   "version": "3.7.3"
  }
 },
 "nbformat": 4,
 "nbformat_minor": 2
}
